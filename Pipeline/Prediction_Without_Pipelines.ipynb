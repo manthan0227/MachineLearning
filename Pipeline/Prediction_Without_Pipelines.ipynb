{
 "cells": [
  {
   "cell_type": "code",
   "execution_count": 2,
   "id": "premier-bankruptcy",
   "metadata": {},
   "outputs": [],
   "source": [
    "import pickle\n",
    "import numpy as np"
   ]
  },
  {
   "cell_type": "code",
   "execution_count": 3,
   "id": "conservative-fighter",
   "metadata": {},
   "outputs": [],
   "source": [
    "ohe_sex = pickle.load(open('models/ohe_sex.pkl', 'rb'))\n",
    "ohe_embarked = pickle.load(open('models/ohe_embarked.pkl', 'rb'))\n",
    "clf = pickle.load(open('models/clf.pkl', 'rb'))"
   ]
  },
  {
   "cell_type": "code",
   "execution_count": 4,
   "id": "revised-compression",
   "metadata": {},
   "outputs": [],
   "source": [
    "# Input = Pclass, gender, age, SibSp, Parch, Fare, Embarked\n",
    "test_input = np.array([2, 'male', 31.0, 0, 0, 10.5, 'S'], dtype=object).reshape(1, 7)"
   ]
  },
  {
   "cell_type": "code",
   "execution_count": 5,
   "id": "precious-tampa",
   "metadata": {},
   "outputs": [
    {
     "data": {
      "text/plain": [
       "array([[2, 'male', 31.0, 0, 0, 10.5, 'S']], dtype=object)"
      ]
     },
     "execution_count": 5,
     "metadata": {},
     "output_type": "execute_result"
    }
   ],
   "source": [
    "test_input"
   ]
  },
  {
   "cell_type": "code",
   "execution_count": 6,
   "id": "disturbed-collective",
   "metadata": {},
   "outputs": [],
   "source": [
    "test_input_sex = ohe_sex.transform(test_input[:,1].reshape(1,1))"
   ]
  },
  {
   "cell_type": "code",
   "execution_count": 7,
   "id": "internal-channel",
   "metadata": {},
   "outputs": [
    {
     "data": {
      "text/plain": [
       "array([[0., 1.]])"
      ]
     },
     "execution_count": 7,
     "metadata": {},
     "output_type": "execute_result"
    }
   ],
   "source": [
    "test_input_sex"
   ]
  },
  {
   "cell_type": "code",
   "execution_count": 8,
   "id": "vocational-promise",
   "metadata": {},
   "outputs": [],
   "source": [
    "test_input_embarked = ohe_embarked.transform(test_input[:,-1].reshape(1,1))"
   ]
  },
  {
   "cell_type": "code",
   "execution_count": 9,
   "id": "general-memorial",
   "metadata": {},
   "outputs": [
    {
     "data": {
      "text/plain": [
       "array([[0., 0., 1., 0.]])"
      ]
     },
     "execution_count": 9,
     "metadata": {},
     "output_type": "execute_result"
    }
   ],
   "source": [
    "test_input_embarked"
   ]
  },
  {
   "cell_type": "code",
   "execution_count": 10,
   "id": "polished-xerox",
   "metadata": {},
   "outputs": [],
   "source": [
    "test_input_age = test_input[:,2].reshape(1,1)"
   ]
  },
  {
   "cell_type": "code",
   "execution_count": 11,
   "id": "specific-benjamin",
   "metadata": {},
   "outputs": [],
   "source": [
    "test_input_transformed = np.concatenate((test_input[:,[0,3,4,5]], test_input_sex, test_input_age, test_input_embarked),axis=1)"
   ]
  },
  {
   "cell_type": "code",
   "execution_count": 13,
   "id": "satisfactory-fellowship",
   "metadata": {},
   "outputs": [
    {
     "data": {
      "text/plain": [
       "(1, 11)"
      ]
     },
     "execution_count": 13,
     "metadata": {},
     "output_type": "execute_result"
    }
   ],
   "source": [
    "test_input_transformed.shape"
   ]
  },
  {
   "cell_type": "code",
   "execution_count": 14,
   "id": "micro-orlando",
   "metadata": {},
   "outputs": [
    {
     "data": {
      "text/plain": [
       "array([1], dtype=int64)"
      ]
     },
     "execution_count": 14,
     "metadata": {},
     "output_type": "execute_result"
    }
   ],
   "source": [
    "clf.predict(test_input_transformed)"
   ]
  },
  {
   "cell_type": "code",
   "execution_count": null,
   "id": "incident-martial",
   "metadata": {},
   "outputs": [],
   "source": []
  }
 ],
 "metadata": {
  "kernelspec": {
   "display_name": "Python 3",
   "language": "python",
   "name": "python3"
  },
  "language_info": {
   "codemirror_mode": {
    "name": "ipython",
    "version": 3
   },
   "file_extension": ".py",
   "mimetype": "text/x-python",
   "name": "python",
   "nbconvert_exporter": "python",
   "pygments_lexer": "ipython3",
   "version": "3.9.2"
  }
 },
 "nbformat": 4,
 "nbformat_minor": 5
}
