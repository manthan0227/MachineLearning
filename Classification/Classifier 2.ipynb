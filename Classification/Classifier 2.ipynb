{
 "cells": [
  {
   "cell_type": "code",
   "execution_count": 1,
   "id": "unable-fashion",
   "metadata": {},
   "outputs": [],
   "source": [
    "from sklearn.neighbors import KNeighborsClassifier\n",
    "from sklearn.linear_model import LogisticRegression\n",
    "from sklearn.svm import SVC\n",
    "from sklearn.ensemble import RandomForestClassifier, AdaBoostClassifier\n",
    "from sklearn.model_selection import train_test_split, cross_val_score\n",
    "from sklearn.metrics import accuracy_score, precision_score, confusion_matrix, classification_report,precision_recall_curve\n",
    "import numpy as np\n",
    "import pandas as pd\n"
   ]
  },
  {
   "cell_type": "code",
   "execution_count": 2,
   "id": "mediterranean-pasta",
   "metadata": {},
   "outputs": [],
   "source": [
    "df = pd.read_csv('cleaned_cuisines.csv')\n",
    "features = df.drop(['Unnamed: 0','cuisine'],axis=1)\n",
    "labels = df['cuisine']\n",
    "\n",
    "X_train, X_test, y_train, y_test = train_test_split(features, labels,test_size=0.3)"
   ]
  },
  {
   "cell_type": "markdown",
   "id": "designed-simon",
   "metadata": {},
   "source": [
    "## Accuracy using Support vector clustering(SVC)"
   ]
  },
  {
   "cell_type": "code",
   "execution_count": 3,
   "id": "social-night",
   "metadata": {},
   "outputs": [],
   "source": [
    "C = 10\n",
    "classifiers = {'Linear SVC':SVC(kernel='linear',C=C,probability=True,random_state=0)}\n"
   ]
  },
  {
   "cell_type": "code",
   "execution_count": 4,
   "id": "organizational-plant",
   "metadata": {},
   "outputs": [
    {
     "name": "stdout",
     "output_type": "stream",
     "text": [
      "Accuracy (train) for Linear SVC is 78.73227689741451\n",
      "              precision    recall  f1-score   support\n",
      "\n",
      "     chinese       0.70      0.70      0.70       253\n",
      "      indian       0.88      0.91      0.89       244\n",
      "    japanese       0.80      0.77      0.79       233\n",
      "      korean       0.85      0.73      0.78       231\n",
      "        thai       0.73      0.84      0.78       238\n",
      "\n",
      "    accuracy                           0.79      1199\n",
      "   macro avg       0.79      0.79      0.79      1199\n",
      "weighted avg       0.79      0.79      0.79      1199\n",
      "\n"
     ]
    }
   ],
   "source": [
    "n_classifiers = len(classifiers)\n",
    "for index, (name, classifier) in enumerate(classifiers.items()):\n",
    "    classifier.fit(X_train, np.ravel(y_train))\n",
    "    y_pred = classifier.predict(X_test)\n",
    "    accuracy = accuracy_score(y_pred, y_test)\n",
    "    print(f'Accuracy (train) for {name} is {accuracy*100}')\n",
    "    print(classification_report(y_test, y_pred))\n",
    "    "
   ]
  },
  {
   "cell_type": "markdown",
   "id": "charming-childhood",
   "metadata": {},
   "source": [
    "## KNN classifier "
   ]
  },
  {
   "cell_type": "code",
   "execution_count": 5,
   "id": "seeing-keyboard",
   "metadata": {},
   "outputs": [],
   "source": [
    "classifiers = {'KNN classifier': KNeighborsClassifier(C)}\n",
    "    "
   ]
  },
  {
   "cell_type": "code",
   "execution_count": 6,
   "id": "extensive-immunology",
   "metadata": {},
   "outputs": [
    {
     "name": "stdout",
     "output_type": "stream",
     "text": [
      "Accuracy (train) for KNN classifier is 74.31192660550458\n",
      "              precision    recall  f1-score   support\n",
      "\n",
      "     chinese       0.71      0.66      0.69       253\n",
      "      indian       0.85      0.82      0.84       244\n",
      "    japanese       0.65      0.85      0.74       233\n",
      "      korean       0.92      0.55      0.69       231\n",
      "        thai       0.69      0.82      0.75       238\n",
      "\n",
      "    accuracy                           0.74      1199\n",
      "   macro avg       0.76      0.74      0.74      1199\n",
      "weighted avg       0.76      0.74      0.74      1199\n",
      "\n"
     ]
    }
   ],
   "source": [
    "n_classifiers = len(classifiers)\n",
    "for index, (name, classifier) in enumerate(classifiers.items()):\n",
    "    classifier.fit(X_train, np.ravel(y_train))\n",
    "    y_pred = classifier.predict(X_test)\n",
    "    accuracy = accuracy_score(y_pred, y_test)\n",
    "    print(f'Accuracy (train) for {name} is {accuracy*100}')\n",
    "    print(classification_report(y_test, y_pred))\n",
    "    "
   ]
  },
  {
   "cell_type": "markdown",
   "id": "induced-polish",
   "metadata": {},
   "source": [
    "## Support Vector Classifier"
   ]
  },
  {
   "cell_type": "code",
   "execution_count": 7,
   "id": "steady-authority",
   "metadata": {},
   "outputs": [
    {
     "name": "stdout",
     "output_type": "stream",
     "text": [
      "Accuracy (train) for SVC is 81.98498748957465\n",
      "              precision    recall  f1-score   support\n",
      "\n",
      "     chinese       0.80      0.72      0.76       253\n",
      "      indian       0.90      0.92      0.91       244\n",
      "    japanese       0.81      0.82      0.81       233\n",
      "      korean       0.90      0.74      0.82       231\n",
      "        thai       0.73      0.90      0.81       238\n",
      "\n",
      "    accuracy                           0.82      1199\n",
      "   macro avg       0.83      0.82      0.82      1199\n",
      "weighted avg       0.83      0.82      0.82      1199\n",
      "\n"
     ]
    }
   ],
   "source": [
    "classifiers = {'SVC':SVC()}\n",
    "\n",
    "n_classifiers = len(classifiers)\n",
    "for index, (name, classifier) in enumerate(classifiers.items()):\n",
    "    classifier.fit(X_train, np.ravel(y_train))\n",
    "    y_pred = classifier.predict(X_test)\n",
    "    accuracy = accuracy_score(y_pred, y_test)\n",
    "    print(f'Accuracy (train) for {name} is {accuracy*100}')\n",
    "    print(classification_report(y_test, y_pred))\n",
    "    "
   ]
  },
  {
   "cell_type": "markdown",
   "id": "completed-queens",
   "metadata": {},
   "source": [
    "## Ensemble classifiers (Random Forest Classifier)"
   ]
  },
  {
   "cell_type": "code",
   "execution_count": 8,
   "id": "polished-colorado",
   "metadata": {},
   "outputs": [
    {
     "name": "stdout",
     "output_type": "stream",
     "text": [
      "Accuracy (train) for RFST is 83.98665554628857\n",
      "              precision    recall  f1-score   support\n",
      "\n",
      "     chinese       0.83      0.77      0.80       253\n",
      "      indian       0.89      0.91      0.90       244\n",
      "    japanese       0.82      0.82      0.82       233\n",
      "      korean       0.88      0.79      0.83       231\n",
      "        thai       0.79      0.91      0.84       238\n",
      "\n",
      "    accuracy                           0.84      1199\n",
      "   macro avg       0.84      0.84      0.84      1199\n",
      "weighted avg       0.84      0.84      0.84      1199\n",
      "\n",
      "Accuracy (train) for ADA is 70.22518765638031\n",
      "              precision    recall  f1-score   support\n",
      "\n",
      "     chinese       0.73      0.48      0.58       253\n",
      "      indian       0.86      0.85      0.85       244\n",
      "    japanese       0.64      0.67      0.65       233\n",
      "      korean       0.67      0.73      0.70       231\n",
      "        thai       0.65      0.79      0.71       238\n",
      "\n",
      "    accuracy                           0.70      1199\n",
      "   macro avg       0.71      0.70      0.70      1199\n",
      "weighted avg       0.71      0.70      0.70      1199\n",
      "\n"
     ]
    }
   ],
   "source": [
    "classifiers = {'RFST': RandomForestClassifier(n_estimators=500),\n",
    "              'ADA': AdaBoostClassifier(n_estimators=100)}\n",
    "\n",
    "n_classifiers = len(classifiers)\n",
    "for index, (name, classifier) in enumerate(classifiers.items()):\n",
    "    classifier.fit(X_train, np.ravel(y_train))\n",
    "    y_pred = classifier.predict(X_test)\n",
    "    accuracy = accuracy_score(y_pred, y_test)\n",
    "    print(f'Accuracy (train) for {name} is {accuracy*100}')\n",
    "    print(classification_report(y_test, y_pred))\n",
    "    "
   ]
  },
  {
   "cell_type": "markdown",
   "id": "handy-image",
   "metadata": {},
   "source": [
    "## Best Accuracy get by Random Forest Classifier"
   ]
  }
 ],
 "metadata": {
  "kernelspec": {
   "display_name": "Python 3",
   "language": "python",
   "name": "python3"
  },
  "language_info": {
   "codemirror_mode": {
    "name": "ipython",
    "version": 3
   },
   "file_extension": ".py",
   "mimetype": "text/x-python",
   "name": "python",
   "nbconvert_exporter": "python",
   "pygments_lexer": "ipython3",
   "version": "3.9.2"
  }
 },
 "nbformat": 4,
 "nbformat_minor": 5
}
