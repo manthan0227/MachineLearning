{
 "cells": [
  {
   "cell_type": "code",
   "execution_count": null,
   "id": "noted-center",
   "metadata": {},
   "outputs": [],
   "source": [
    "## Gradient Descent and "
   ]
  },
  {
   "cell_type": "code",
   "execution_count": 1,
   "id": "adolescent-nature",
   "metadata": {},
   "outputs": [],
   "source": [
    "import numpy as np"
   ]
  },
  {
   "cell_type": "code",
   "execution_count": 2,
   "id": "surface-invitation",
   "metadata": {},
   "outputs": [],
   "source": [
    "# Ordinary Least Square Gradient Descent\n",
    "def OLS_GD(X, y, eta=0.001, n_iters=1e4, add_intercept=True):\n",
    "    if add_intercept:\n",
    "        ones = np.ones(X.shape[0]).reshape(-1,1)\n",
    "        X = np.concatenate((ones, X), 1)\n",
    "    beta_hat = np.random.randn(X.shape[1])\n",
    "    for i in range(int(n_iters)):\n",
    "        yhat = np.dot(X, beta_hat)\n",
    "        delta = -X.T @ (y-y_hat)\n",
    "        beta_hat = beta_hat - delta*eta"
   ]
  },
  {
   "cell_type": "code",
   "execution_count": 3,
   "id": "marked-newsletter",
   "metadata": {},
   "outputs": [],
   "source": [
    "from sklearn.linear_model import Ridge\n",
    "from sklearn.datasets import load_boston"
   ]
  },
  {
   "cell_type": "code",
   "execution_count": 4,
   "id": "incorporate-escape",
   "metadata": {},
   "outputs": [],
   "source": [
    "boston = load_boston()"
   ]
  },
  {
   "cell_type": "code",
   "execution_count": 5,
   "id": "colored-pipeline",
   "metadata": {},
   "outputs": [],
   "source": [
    "X = boston['data']\n",
    "y = boston['target']"
   ]
  },
  {
   "cell_type": "code",
   "execution_count": 9,
   "id": "following-angle",
   "metadata": {},
   "outputs": [],
   "source": [
    "N = X.shape[0]"
   ]
  },
  {
   "cell_type": "code",
   "execution_count": 10,
   "id": "distinguished-vegetable",
   "metadata": {},
   "outputs": [
    {
     "data": {
      "text/plain": [
       "array([0., 0., 0.])"
      ]
     },
     "execution_count": 10,
     "metadata": {},
     "output_type": "execute_result"
    }
   ],
   "source": [
    "potential_alphas = [0, 1, 10]  # choose alpha to consider\n",
    "error_by_alpha = np.zeros(len(potential_alphas))\n",
    "error_by_alpha"
   ]
  },
  {
   "cell_type": "code",
   "execution_count": 13,
   "id": "living-schema",
   "metadata": {},
   "outputs": [],
   "source": [
    "K = 5 # choose the folds\n",
    "indices = np.arange(N)\n",
    "np.random.shuffle(indices)\n",
    "folds = np.array_split(indices, K) # K parts of the indices"
   ]
  },
  {
   "cell_type": "code",
   "execution_count": 14,
   "id": "national-mainstream",
   "metadata": {},
   "outputs": [],
   "source": [
    "for k in range(K):\n",
    "    X_train = np.delete(X, folds[k], 0)\n",
    "    y_train = np.delete(y, folds[k], 0)\n",
    "    X_val = X[folds[k]]\n",
    "    y_val = y[folds[k]]\n",
    "    \n",
    "    for i in range(len(potential_alphas)):\n",
    "        model = Ridge(alpha=potential_alphas[i])\n",
    "        model.fit(X_train, y_train)\n",
    "        \n",
    "        error = np.sum((y_val-model.predict(X_val))**2)\n",
    "        error_by_alpha[i] += error\n",
    "error_by_alpha/=N"
   ]
  },
  {
   "cell_type": "code",
   "execution_count": 16,
   "id": "polar-enterprise",
   "metadata": {},
   "outputs": [
    {
     "data": {
      "text/plain": [
       "array([24.43181624, 24.54822301, 25.03437893])"
      ]
     },
     "execution_count": 16,
     "metadata": {},
     "output_type": "execute_result"
    }
   ],
   "source": [
    "error_by_alpha"
   ]
  },
  {
   "cell_type": "code",
   "execution_count": 18,
   "id": "disciplinary-objective",
   "metadata": {},
   "outputs": [
    {
     "data": {
      "text/plain": [
       "24.671472727223033"
      ]
     },
     "execution_count": 18,
     "metadata": {},
     "output_type": "execute_result"
    }
   ],
   "source": [
    "# lowest average error\n",
    "LAE  = np.mean(error_by_alpha)\n",
    "LAE"
   ]
  },
  {
   "cell_type": "code",
   "execution_count": null,
   "id": "adaptive-motion",
   "metadata": {},
   "outputs": [],
   "source": []
  }
 ],
 "metadata": {
  "kernelspec": {
   "display_name": "Python 3",
   "language": "python",
   "name": "python3"
  },
  "language_info": {
   "codemirror_mode": {
    "name": "ipython",
    "version": 3
   },
   "file_extension": ".py",
   "mimetype": "text/x-python",
   "name": "python",
   "nbconvert_exporter": "python",
   "pygments_lexer": "ipython3",
   "version": "3.9.2"
  }
 },
 "nbformat": 4,
 "nbformat_minor": 5
}
