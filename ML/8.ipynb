{
 "cells": [
  {
   "cell_type": "code",
   "execution_count": 1,
   "id": "utility-occurrence",
   "metadata": {},
   "outputs": [],
   "source": [
    "from sklearn.ensemble import BaggingClassifier, RandomForestClassifier\n",
    "from sklearn.ensemble import RandomForestRegressor, AdaBoostClassifier, AdaBoostRegressor\n",
    "from sklearn.linear_model import LogisticRegression\n",
    "from sklearn.naive_bayes import GaussianNB"
   ]
  },
  {
   "cell_type": "code",
   "execution_count": 2,
   "id": "according-serbia",
   "metadata": {},
   "outputs": [],
   "source": [
    "import numpy as np\n",
    "import pandas as pd\n",
    "import matplotlib.pyplot as plt\n",
    "import seaborn as sns"
   ]
  },
  {
   "cell_type": "markdown",
   "id": "handy-apparatus",
   "metadata": {},
   "source": [
    "### Bagging"
   ]
  },
  {
   "cell_type": "code",
   "execution_count": 3,
   "id": "other-romance",
   "metadata": {},
   "outputs": [
    {
     "name": "stdout",
     "output_type": "stream",
     "text": [
      "(83,)\n"
     ]
    }
   ],
   "source": [
    "penguins = sns.load_dataset('penguins')\n",
    "penguins = penguins.dropna().reset_index(drop=True)\n",
    "X, y = penguins.drop(columns='species'), penguins['species']\n",
    "np.random.seed(42)\n",
    "test_size = int(len(y)*0.25)\n",
    "test_indxs = np.random.choice(np.arange(len(y)), test_size, replace=False)\n",
    "X_train, y_train = X.drop(test_indxs), y.drop(test_indxs)\n",
    "X_test, y_test = X.loc[test_indxs], y.loc[test_indxs]\n",
    "X_train = pd.get_dummies(X_train, drop_first=True)\n",
    "X_test = pd.get_dummies(X_test, drop_first=True)\n",
    "print(y_test.shape)"
   ]
  },
  {
   "cell_type": "code",
   "execution_count": 4,
   "id": "closing-portal",
   "metadata": {},
   "outputs": [
    {
     "name": "stdout",
     "output_type": "stream",
     "text": [
      "bagger1: 0.9879518072289156, \n",
      "bagger2: 0.9759036144578314\n"
     ]
    }
   ],
   "source": [
    "bagger1 = BaggingClassifier(n_estimators=160, random_state=11)\n",
    "bagger1.fit(X_train, y_train)\n",
    "bagger2 = BaggingClassifier(base_estimator=GaussianNB(), n_estimators=160, random_state=11)\n",
    "bagger2.fit(X_train, y_train)\n",
    "print(f'bagger1: {np.mean(bagger1.predict(X_test)==y_test)}, \\nbagger2: {np.mean(bagger2.predict(X_test)==y_test)}')"
   ]
  },
  {
   "cell_type": "markdown",
   "id": "pediatric-civilization",
   "metadata": {},
   "source": [
    "### RandomForests"
   ]
  },
  {
   "cell_type": "code",
   "execution_count": 5,
   "id": "devoted-verification",
   "metadata": {},
   "outputs": [
    {
     "name": "stdout",
     "output_type": "stream",
     "text": [
      "Forest: 0.9879518072289156\n"
     ]
    }
   ],
   "source": [
    "forest = RandomForestClassifier(n_estimators=160, min_samples_leaf=3, max_features=0.5, n_jobs=-1)\n",
    "forest.fit(X_train, y_train)\n",
    "print(f'Forest: {np.mean(forest.predict(X_test)==y_test)}')"
   ]
  },
  {
   "cell_type": "markdown",
   "id": "extensive-andorra",
   "metadata": {},
   "source": [
    "### AdaBoost Regression"
   ]
  },
  {
   "cell_type": "code",
   "execution_count": 6,
   "id": "ready-backing",
   "metadata": {},
   "outputs": [],
   "source": [
    "\n",
    "tips = sns.load_dataset('tips')\n",
    "tips = tips.dropna().reset_index(drop = True)\n",
    "X = tips.drop(columns = 'tip')\n",
    "y = tips['tip']\n",
    "\n",
    "## Train-test split\n",
    "np.random.seed(1)\n",
    "test_frac = 0.25\n",
    "test_size = int(len(y)*test_frac)\n",
    "test_idxs = np.random.choice(np.arange(len(y)), test_size, replace = False)\n",
    "X_train = X.drop(test_idxs)\n",
    "y_train = y.drop(test_idxs)\n",
    "X_test = X.loc[test_idxs]\n",
    "y_test = y.loc[test_idxs]"
   ]
  },
  {
   "cell_type": "code",
   "execution_count": 7,
   "id": "separated-feeding",
   "metadata": {},
   "outputs": [
    {
     "name": "stderr",
     "output_type": "stream",
     "text": [
      "c:\\python\\python3.9.2\\lib\\site-packages\\seaborn\\_decorators.py:36: FutureWarning: Pass the following variables as keyword args: x, y. From version 0.12, the only valid positional argument will be `data`, and passing other arguments without an explicit keyword will result in an error or misinterpretation.\n",
      "  warnings.warn(\n"
     ]
    },
    {
     "data": {
      "image/png": "[encoded data removed]",
      "text/plain": [
       "<Figure size 504x360 with 1 Axes>"
      ]
     },
     "metadata": {
      "needs_background": "light"
     },
     "output_type": "display_data"
    }
   ],
   "source": [
    "from sklearn.ensemble import AdaBoostRegressor\n",
    "\n",
    "## Get dummies\n",
    "X_train = pd.get_dummies(X_train, drop_first = True)\n",
    "X_test = pd.get_dummies(X_test, drop_first = True)\n",
    "\n",
    "## Build model\n",
    "abr = AdaBoostRegressor(n_estimators = 50)\n",
    "abr.fit(X_train, y_train)\n",
    "y_test_hat = abr.predict(X_test)\n",
    "\n",
    "## Visualize predictions\n",
    "fig, ax = plt.subplots(figsize = (7, 5))\n",
    "sns.scatterplot(y_test, y_test_hat)\n",
    "ax.set(xlabel = r'$y$', ylabel = r'$\\hat{y}$', title = r'Test Sample $y$ vs. $\\hat{y}$')\n",
    "sns.despine()"
   ]
  },
  {
   "cell_type": "markdown",
   "id": "sporting-polish",
   "metadata": {},
   "source": [
    "### AdaBoost Regression"
   ]
  },
  {
   "cell_type": "code",
   "execution_count": 8,
   "id": "nominated-problem",
   "metadata": {},
   "outputs": [],
   "source": [
    "## Load penguins data\n",
    "penguins = sns.load_dataset('penguins')\n",
    "penguins = penguins.dropna().reset_index(drop = True)\n",
    "X = penguins.drop(columns = 'species')\n",
    "y = penguins['species']\n",
    "\n",
    "np.random.seed(1)\n",
    "test_frac = 0.25\n",
    "test_size = int(len(y)*test_frac)\n",
    "test_idxs = np.random.choice(np.arange(len(y)), test_size, replace = False)\n",
    "X_train = X.drop(test_idxs)\n",
    "y_train = y.drop(test_idxs)\n",
    "X_test = X.loc[test_idxs]\n",
    "y_test = y.loc[test_idxs]\n",
    "\n",
    "X_train = pd.get_dummies(X_train, drop_first = True)\n",
    "X_test = pd.get_dummies(X_test, drop_first = True)"
   ]
  },
  {
   "cell_type": "code",
   "execution_count": 9,
   "id": "vietnamese-cologne",
   "metadata": {},
   "outputs": [],
   "source": [
    "y_train = (y_train == 'Adelie')\n",
    "y_test = (y_test == 'Adelie')"
   ]
  },
  {
   "cell_type": "code",
   "execution_count": 10,
   "id": "alive-locator",
   "metadata": {},
   "outputs": [
    {
     "data": {
      "text/plain": [
       "0.9759036144578314"
      ]
     },
     "execution_count": 10,
     "metadata": {},
     "output_type": "execute_result"
    }
   ],
   "source": [
    "from sklearn.ensemble import AdaBoostClassifier\n",
    "\n",
    "X_train = pd.get_dummies(X_train, drop_first = True)\n",
    "X_test = pd.get_dummies(X_test, drop_first = True)\n",
    "\n",
    "abc = AdaBoostClassifier(n_estimators = 50)\n",
    "abc.fit(X_train, y_train)\n",
    "y_test_hat = abc.predict(X_test)\n",
    "\n",
    "np.mean(y_test_hat == y_test)"
   ]
  },
  {
   "cell_type": "code",
   "execution_count": 11,
   "id": "green-journalism",
   "metadata": {},
   "outputs": [],
   "source": [
    "from sklearn.linear_model import LogisticRegression\n",
    "abc = AdaBoostClassifier(base_estimator = LogisticRegression(max_iter = 1000))\n",
    "abc.fit(X_train, y_train);"
   ]
  },
  {
   "cell_type": "code",
   "execution_count": null,
   "id": "pursuant-tutorial",
   "metadata": {},
   "outputs": [],
   "source": []
  }
 ],
 "metadata": {
  "kernelspec": {
   "display_name": "Python 3",
   "language": "python",
   "name": "python3"
  },
  "language_info": {
   "codemirror_mode": {
    "name": "ipython",
    "version": 3
   },
   "file_extension": ".py",
   "mimetype": "text/x-python",
   "name": "python",
   "nbconvert_exporter": "python",
   "pygments_lexer": "ipython3",
   "version": "3.9.2"
  }
 },
 "nbformat": 4,
 "nbformat_minor": 5
}
