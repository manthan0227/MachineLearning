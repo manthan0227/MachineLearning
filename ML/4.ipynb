{
 "cells": [
  {
   "cell_type": "markdown",
   "id": "portuguese-bronze",
   "metadata": {},
   "source": [
    "## Regularized Regression"
   ]
  },
  {
   "cell_type": "code",
   "execution_count": 1,
   "id": "determined-interference",
   "metadata": {},
   "outputs": [],
   "source": [
    "import numpy as np\n",
    "import matplotlib.pyplot as plt\n",
    "import seaborn as sns\n",
    "from sklearn.datasets import load_boston"
   ]
  },
  {
   "cell_type": "code",
   "execution_count": 4,
   "id": "undefined-suggestion",
   "metadata": {},
   "outputs": [],
   "source": [
    "boston = load_boston()\n",
    "X_train = boston['data']\n",
    "y_train = boston['target']"
   ]
  },
  {
   "cell_type": "code",
   "execution_count": 5,
   "id": "advisory-samba",
   "metadata": {},
   "outputs": [
    {
     "data": {
      "text/plain": [
       "Lasso(alpha=1)"
      ]
     },
     "execution_count": 5,
     "metadata": {},
     "output_type": "execute_result"
    }
   ],
   "source": [
    "from sklearn.linear_model import Ridge, Lasso\n",
    "alpha = 1\n",
    "ridge_model = Ridge(alpha = alpha)\n",
    "ridge_model.fit(X_train, y_train)\n",
    "lasso_model = Lasso(alpha = alpha)\n",
    "lasso_model.fit(X_train, y_train)"
   ]
  },
  {
   "cell_type": "code",
   "execution_count": 6,
   "id": "surrounded-things",
   "metadata": {},
   "outputs": [
    {
     "data": {
      "text/plain": [
       "LassoCV(alphas=[0.01, 1, 10, 100])"
      ]
     },
     "execution_count": 6,
     "metadata": {},
     "output_type": "execute_result"
    }
   ],
   "source": [
    "from sklearn.linear_model import RidgeCV, LassoCV\n",
    "alphas = [0.01, 1, 10, 100]\n",
    "ridgeCV_model = RidgeCV(alphas=alphas)\n",
    "ridgeCV_model.fit(X_train, y_train)\n",
    "lassoCV_model = LassoCV(alphas=alphas)\n",
    "lassoCV_model.fit(X_train, y_train)"
   ]
  },
  {
   "cell_type": "code",
   "execution_count": 7,
   "id": "cordless-stylus",
   "metadata": {},
   "outputs": [
    {
     "name": "stdout",
     "output_type": "stream",
     "text": [
      "Ridge alpha:  0.01\n",
      "Lasso alpha:  1.0\n"
     ]
    }
   ],
   "source": [
    "print('Ridge alpha: ', ridgeCV_model.alpha_)\n",
    "print('Lasso alpha: ', lassoCV_model.alpha_)"
   ]
  },
  {
   "cell_type": "code",
   "execution_count": 8,
   "id": "coated-dining",
   "metadata": {},
   "outputs": [
    {
     "data": {
      "text/plain": [
       "BayesianRidge()"
      ]
     },
     "execution_count": 8,
     "metadata": {},
     "output_type": "execute_result"
    }
   ],
   "source": [
    "from sklearn.linear_model import BayesianRidge\n",
    "bayes_model = BayesianRidge()\n",
    "bayes_model.fit(X_train,y_train)"
   ]
  },
  {
   "cell_type": "code",
   "execution_count": 10,
   "id": "running-narrative",
   "metadata": {},
   "outputs": [],
   "source": [
    "import statsmodels.api as sm\n",
    "X_train_with_constant = sm.add_constant(X_train)\n",
    "poisson_model = sm.GLM(y_train, X_train_with_constant, family=sm.families.Poisson())"
   ]
  },
  {
   "cell_type": "code",
   "execution_count": 11,
   "id": "sacred-gender",
   "metadata": {},
   "outputs": [
    {
     "data": {
      "text/plain": [
       "<statsmodels.genmod.generalized_linear_model.GLMResultsWrapper at 0x1916dc482e0>"
      ]
     },
     "execution_count": 11,
     "metadata": {},
     "output_type": "execute_result"
    }
   ],
   "source": [
    "poisson_model.fit()"
   ]
  },
  {
   "cell_type": "code",
   "execution_count": null,
   "id": "voluntary-hierarchy",
   "metadata": {},
   "outputs": [],
   "source": []
  }
 ],
 "metadata": {
  "kernelspec": {
   "display_name": "Python 3",
   "language": "python",
   "name": "python3"
  },
  "language_info": {
   "codemirror_mode": {
    "name": "ipython",
    "version": 3
   },
   "file_extension": ".py",
   "mimetype": "text/x-python",
   "name": "python",
   "nbconvert_exporter": "python",
   "pygments_lexer": "ipython3",
   "version": "3.9.2"
  }
 },
 "nbformat": 4,
 "nbformat_minor": 5
}
