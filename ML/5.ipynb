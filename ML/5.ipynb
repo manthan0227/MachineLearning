{
 "cells": [
  {
   "cell_type": "code",
   "execution_count": 32,
   "id": "measured-steps",
   "metadata": {},
   "outputs": [],
   "source": [
    "import numpy as np\n",
    "import matplotlib.pyplot as plt\n",
    "import seaborn as sns\n",
    "from sklearn import datasets"
   ]
  },
  {
   "cell_type": "code",
   "execution_count": null,
   "id": "international-alliance",
   "metadata": {},
   "outputs": [],
   "source": [
    "cancer = datasets.load_breast_cancer()\n",
    "X_cancer = cancer['data']\n",
    "y_cancer = cancer['target']"
   ]
  },
  {
   "cell_type": "code",
   "execution_count": 34,
   "id": "renewable-stretch",
   "metadata": {},
   "outputs": [],
   "source": [
    "wine = datasets.load_wine()\n",
    "X_wine = wine['data']\n",
    "y_wine = wine['target']"
   ]
  },
  {
   "cell_type": "markdown",
   "id": "buried-tulsa",
   "metadata": {},
   "source": [
    "### Binary Classification"
   ]
  },
  {
   "cell_type": "code",
   "execution_count": 35,
   "id": "underlying-beads",
   "metadata": {},
   "outputs": [
    {
     "name": "stdout",
     "output_type": "stream",
     "text": [
      "Training Accuracy:  0.9859402460456942\n"
     ]
    }
   ],
   "source": [
    "from sklearn.linear_model import LogisticRegression\n",
    "binary_model = LogisticRegression(C=10**4, max_iter=1e5)\n",
    "binary_model.fit(X_cancer, y_cancer)\n",
    "y_hat = binary_model.predict(X_cancer)\n",
    "p_hat = binary_model.predict_proba(X_cancer)\n",
    "print('Training Accuracy: ', binary_model.score(X_cancer, y_cancer))"
   ]
  },
  {
   "cell_type": "markdown",
   "id": "potential-bones",
   "metadata": {},
   "source": [
    "### Multiclass Classification"
   ]
  },
  {
   "cell_type": "code",
   "execution_count": 38,
   "id": "hispanic-rolling",
   "metadata": {},
   "outputs": [
    {
     "name": "stdout",
     "output_type": "stream",
     "text": [
      "Training Accuracy:  1.0\n"
     ]
    }
   ],
   "source": [
    "multiclass_model = LogisticRegression(multi_class='multinomial', C=10**4, max_iter=1e5 )\n",
    "multiclass_model.fit(X_wine, y_wine)\n",
    "y_hat = multiclass_model.predict(X_wine)\n",
    "p_hat = multiclass_model.predict_proba(X_wine)\n",
    "print('Training Accuracy: ', multiclass_model.score(X_wine, y_wine))"
   ]
  },
  {
   "cell_type": "markdown",
   "id": "american-asian",
   "metadata": {},
   "source": [
    "### Perceptron Algorithm"
   ]
  },
  {
   "cell_type": "code",
   "execution_count": 39,
   "id": "burning-dubai",
   "metadata": {},
   "outputs": [
    {
     "data": {
      "text/plain": [
       "Perceptron()"
      ]
     },
     "execution_count": 39,
     "metadata": {},
     "output_type": "execute_result"
    }
   ],
   "source": [
    "from sklearn.linear_model import Perceptron\n",
    "perceptron = Perceptron()\n",
    "perceptron.fit(X_cancer, y_cancer)\n",
    "print('Training Accuracy: ', perceptron.score(X_cancer, y))"
   ]
  },
  {
   "cell_type": "markdown",
   "id": "crucial-truth",
   "metadata": {},
   "source": [
    "### Fishers Linear Discriminant"
   ]
  },
  {
   "cell_type": "code",
   "execution_count": 40,
   "id": "neither-columbia",
   "metadata": {},
   "outputs": [
    {
     "name": "stdout",
     "output_type": "stream",
     "text": [
      "Separated:  True\n"
     ]
    }
   ],
   "source": [
    "from sklearn.discriminant_analysis import LinearDiscriminantAnalysis\n",
    "lda = LinearDiscriminantAnalysis(n_components=1)\n",
    "lda.fit(X_cancer, y_cancer)\n",
    "f0 = np.dot(X_cancer, lda.coef_[0])[y_cancer==0]\n",
    "f1 = np.dot(X_cancer, lda.coef_[0])[y_cancer==1]\n",
    "print('Separated: ', (min(f0) > min(f1))|(min(f0) < min(f1)))"
   ]
  },
  {
   "cell_type": "code",
   "execution_count": null,
   "id": "small-terry",
   "metadata": {},
   "outputs": [],
   "source": []
  }
 ],
 "metadata": {
  "kernelspec": {
   "display_name": "Python 3",
   "language": "python",
   "name": "python3"
  },
  "language_info": {
   "codemirror_mode": {
    "name": "ipython",
    "version": 3
   },
   "file_extension": ".py",
   "mimetype": "text/x-python",
   "name": "python",
   "nbconvert_exporter": "python",
   "pygments_lexer": "ipython3",
   "version": "3.9.2"
  }
 },
 "nbformat": 4,
 "nbformat_minor": 5
}
